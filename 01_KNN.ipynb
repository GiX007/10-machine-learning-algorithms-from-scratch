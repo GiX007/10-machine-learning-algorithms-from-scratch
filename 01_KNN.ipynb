{
  "nbformat": 4,
  "nbformat_minor": 0,
  "metadata": {
    "colab": {
      "provenance": [],
      "authorship_tag": "ABX9TyP9ctAmPQm2EaF+CQE08WCN",
      "include_colab_link": true
    },
    "kernelspec": {
      "name": "python3",
      "display_name": "Python 3"
    },
    "language_info": {
      "name": "python"
    }
  },
  "cells": [
    {
      "cell_type": "markdown",
      "metadata": {
        "id": "view-in-github",
        "colab_type": "text"
      },
      "source": [
        "<a href=\"https://colab.research.google.com/github/GiX7000/top-10-ml-algorithms-from-scratch/blob/main/01_KNN.ipynb\" target=\"_parent\"><img src=\"https://colab.research.google.com/assets/colab-badge.svg\" alt=\"Open In Colab\"/></a>"
      ]
    },
    {
      "cell_type": "markdown",
      "source": [
        "# Implementation of K-Nearest Neighbors classifier\n",
        "\n",
        "We will see how to implement [KNN](https://www.youtube.com/watch?v=0p0o5cmgLdE) algorithm, which is one of the simplest in ML, from scratch in python."
      ],
      "metadata": {
        "id": "UKPts8kOtkq3"
      }
    },
    {
      "cell_type": "code",
      "source": [
        "# import useful libraries\n",
        "import numpy as np\n",
        "from collections import Counter\n",
        "\n",
        "from sklearn import datasets\n",
        "from sklearn.model_selection import train_test_split\n",
        "import matplotlib.pyplot as plt\n",
        "from matplotlib.colors import ListedColormap"
      ],
      "metadata": {
        "id": "N88_HZQcx4OV"
      },
      "execution_count": 1,
      "outputs": []
    },
    {
      "cell_type": "markdown",
      "source": [
        "## 1. Download the [iris dataset](https://archive.ics.uci.edu/dataset/53/iris), create train and test sets and visualize."
      ],
      "metadata": {
        "id": "0Enm2Kt7zycw"
      }
    },
    {
      "cell_type": "code",
      "source": [
        "# download iris dataset\n",
        "iris = datasets.load_iris()\n",
        "X, y = iris.data, iris.target\n",
        "\n",
        "# create train and test sets\n",
        "X_train, X_test, y_train, y_test = train_test_split(X, y, test_size=0.2, random_state=1234)\n",
        "\n",
        "# let's see some things about the data\n",
        "print(X_train.shape, X_train.dtype, X_train[0], y_train.shape, y_train.dtype, y_train[0])\n",
        "print(X_test.shape, X_test.dtype, y_test.shape, y_test.dtype, y_test[0])\n",
        "print(f\"Classes of the datastet are: {iris.target_names}\")"
      ],
      "metadata": {
        "colab": {
          "base_uri": "https://localhost:8080/"
        },
        "id": "ZN5FF-7lztiV",
        "outputId": "9cbc1973-4889-4646-c537-92a589c4fce2"
      },
      "execution_count": 2,
      "outputs": [
        {
          "output_type": "stream",
          "name": "stdout",
          "text": [
            "(120, 4) float64 [5.1 2.5 3.  1.1] (120,) int64 1\n",
            "(30, 4) float64 (30,) int64 1\n",
            "Classes of the datastet are: ['setosa' 'versicolor' 'virginica']\n"
          ]
        }
      ]
    },
    {
      "cell_type": "code",
      "source": [
        "# plot how the training data look like\n",
        "plt.figure()\n",
        "cmap = ListedColormap(['red','blue','purple'])\n",
        "plt.scatter(X[:,2],X[:,3], c=y, cmap=cmap, edgecolor='k', s=20) # plot with regard to 2/4 features\n",
        "plt.show()"
      ],
      "metadata": {
        "colab": {
          "base_uri": "https://localhost:8080/",
          "height": 430
        },
        "id": "sC7NcRGq0l-z",
        "outputId": "85a251cb-ca4a-49ea-bd8a-db6d8662f880"
      },
      "execution_count": 3,
      "outputs": [
        {
          "output_type": "display_data",
          "data": {
            "text/plain": [
              "<Figure size 640x480 with 1 Axes>"
            ],
            "image/png": "[encoded data removed]"
          },
          "metadata": {}
        }
      ]
    },
    {
      "cell_type": "markdown",
      "source": [
        "## 2. Create the KNN model."
      ],
      "metadata": {
        "id": "5wJHo3b10EJg"
      }
    },
    {
      "cell_type": "code",
      "execution_count": 4,
      "metadata": {
        "id": "23_4fu5MkIZB"
      },
      "outputs": [],
      "source": [
        "# calculate L2 distance\n",
        "def euclidean_distance(x1, x2):\n",
        "  return np.sqrt(np.sum((x1-x2)**2))\n",
        "\n",
        "# create knn algorithm as a class\n",
        "class KNN:\n",
        "  def __init__(self, k=2):\n",
        "    self.k = k\n",
        "\n",
        "  # train function that just memorizes the inputs\n",
        "  def fit(self, X, y):\n",
        "    self.X_train = X\n",
        "    self.y_train = y\n",
        "\n",
        "  # predictions of all points\n",
        "  def predict(self, X):\n",
        "    predictions = [self._predict(x) for x in X]\n",
        "    return predictions\n",
        "\n",
        "  # prediction per point\n",
        "  def _predict(self, x):\n",
        "    # 1. compute the euclidean distance between the given point and all other points in the training set\n",
        "    distances = [euclidean_distance(x, x_train) for x_train in self.X_train]\n",
        "\n",
        "    # 2. sort the distances and get the k closest of them\n",
        "    k_indices = np.argsort(distances)[:self.k]\n",
        "\n",
        "    # 3. find the labels of these k closest distances\n",
        "    k_nearest_labels = [self.y_train[i] for i in k_indices]\n",
        "\n",
        "    # 4. find the majority of labels around the point(get the most common labels)\n",
        "    most_common = np.bincount(k_nearest_labels).argmax()\n",
        "    return most_common\n",
        "\n",
        "    # an alternative code for 4 above for the majority of votes\n",
        "    #most_common = Counter(k_nearest_labels).most_common()\n",
        "    #return most_common[0][0]"
      ]
    },
    {
      "cell_type": "markdown",
      "source": [
        "## 3. Train, predict and evaluate a KNN model for k=5."
      ],
      "metadata": {
        "id": "ciVGXmH20T5X"
      }
    },
    {
      "cell_type": "code",
      "source": [
        "# create a knn instance for k=5\n",
        "clf = KNN(k=5)\n",
        "\n",
        "# 'train'(=memorize the train set) the clf\n",
        "clf.fit(X_train, y_train)"
      ],
      "metadata": {
        "id": "qDuu6YoxyVgY"
      },
      "execution_count": 5,
      "outputs": []
    },
    {
      "cell_type": "code",
      "source": [
        "# make predictions on test set\n",
        "predictions = clf.predict(X_test)\n",
        "\n",
        "# Print the predictions and the actual labels\n",
        "print(\"Predictions:\", np.array(predictions))\n",
        "print(\"Actual Labels:\", y_test)"
      ],
      "metadata": {
        "colab": {
          "base_uri": "https://localhost:8080/"
        },
        "id": "vGv_PYXM7qbt",
        "outputId": "4531df94-ed49-44a6-9a14-717dcc1e2a92"
      },
      "execution_count": 6,
      "outputs": [
        {
          "output_type": "stream",
          "name": "stdout",
          "text": [
            "Predictions: [1 2 2 0 1 0 0 0 1 2 1 0 2 1 0 1 2 0 2 1 1 1 1 1 2 0 2 1 2 0]\n",
            "Actual Labels: [1 1 2 0 1 0 0 0 1 2 1 0 2 1 0 1 2 0 2 1 1 1 1 1 2 0 2 1 2 0]\n"
          ]
        }
      ]
    },
    {
      "cell_type": "code",
      "source": [
        "# compute the accuracy\n",
        "acc = np.sum(predictions == y_test) / len(y_test)\n",
        "\n",
        "# and print the knn's accuracy\n",
        "print(acc)"
      ],
      "metadata": {
        "id": "Ez7yyXyyptWZ",
        "colab": {
          "base_uri": "https://localhost:8080/"
        },
        "outputId": "7ef19fa0-27c6-401f-88bf-256f17a22645"
      },
      "execution_count": 7,
      "outputs": [
        {
          "output_type": "stream",
          "name": "stdout",
          "text": [
            "0.9666666666666667\n"
          ]
        }
      ]
    },
    {
      "cell_type": "markdown",
      "source": [
        "We get an accuracy of 96,6% and that's a very good accuracy score for this quick implementation of K-Neirest_Neighbour algorithm."
      ],
      "metadata": {
        "id": "Bv-o3iunEvxV"
      }
    },
    {
      "cell_type": "markdown",
      "source": [
        "## 4. Compare with KNeighborsClassifier from scikit-learn library."
      ],
      "metadata": {
        "id": "MpQaqdoXH1QD"
      }
    },
    {
      "cell_type": "code",
      "source": [
        "# let's compare now with the accuracy that sklearn gives us\n",
        "from sklearn.neighbors import KNeighborsClassifier\n",
        "\n",
        "clf_sklearn = KNeighborsClassifier(n_neighbors=5)\n",
        "clf_sklearn.fit(X_train, y_train)\n",
        "sklearn_predictions = clf_sklearn.predict(X_test)\n",
        "\n",
        "sklearn_acc = np.sum(sklearn_predictions == y_test) / len(y_test)\n",
        "print(sklearn_acc)"
      ],
      "metadata": {
        "colab": {
          "base_uri": "https://localhost:8080/"
        },
        "id": "N6WGPF1HFTw2",
        "outputId": "850f5a8a-a37e-47f3-e1ad-f8b9df575b91"
      },
      "execution_count": 8,
      "outputs": [
        {
          "output_type": "stream",
          "name": "stdout",
          "text": [
            "0.9666666666666667\n"
          ]
        }
      ]
    },
    {
      "cell_type": "markdown",
      "source": [
        "We  get the same accuracy as the one that [KNeighborsClassifier](https://scikit-learn.org/stable/modules/generated/sklearn.neighbors.KNeighborsClassifier.html) from scikit-learn library gives us."
      ],
      "metadata": {
        "id": "dk7a8wvUGVx4"
      }
    },
    {
      "cell_type": "code",
      "source": [],
      "metadata": {
        "id": "yctiWZqDGR0W"
      },
      "execution_count": null,
      "outputs": []
    }
  ]
}