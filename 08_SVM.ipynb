{
  "nbformat": 4,
  "nbformat_minor": 0,
  "metadata": {
    "colab": {
      "provenance": [],
      "include_colab_link": true
    },
    "kernelspec": {
      "name": "python3",
      "display_name": "Python 3"
    },
    "language_info": {
      "name": "python"
    }
  },
  "cells": [
    {
      "cell_type": "markdown",
      "metadata": {
        "id": "view-in-github",
        "colab_type": "text"
      },
      "source": [
        "<a href=\"https://colab.research.google.com/github/GiX7000/10-machine-learning-algorithms-from-scratch/blob/main/08_SVM.ipynb\" target=\"_parent\"><img src=\"https://colab.research.google.com/assets/colab-badge.svg\" alt=\"Open In Colab\"/></a>"
      ]
    },
    {
      "cell_type": "markdown",
      "source": [
        "# Implementation of a Support Vector Machine classifier\n",
        "\n",
        "In this notebook, a quick and simple implementation of a **binary** [SVM](https://www.youtube.com/watch?v=_YPScrckx28) classifier is presented. For deeper understanding, have a look first [here](https://www.youtube.com/watch?v=gUzEN2TxnxE) and then [here](https://www.youtube.com/watch?v=lDwow4aOrtg)."
      ],
      "metadata": {
        "id": "IzpEiD98W-4k"
      }
    },
    {
      "cell_type": "code",
      "execution_count": null,
      "metadata": {
        "id": "Dd_0GUuBOaOK"
      },
      "outputs": [],
      "source": [
        "# imports\n",
        "import numpy as np\n",
        "from sklearn.model_selection import train_test_split\n",
        "from sklearn import datasets"
      ]
    },
    {
      "cell_type": "markdown",
      "source": [
        "## 1. Create a dataset and split it to train and test sets."
      ],
      "metadata": {
        "id": "jcqMa_oJm3Ls"
      }
    },
    {
      "cell_type": "code",
      "source": [
        "# make a classification dataset\n",
        "X, y = datasets.make_blobs(n_samples=50, n_features=2, centers=2, cluster_std=1.05, random_state=4)\n",
        "\n",
        "# make sure that the classes are 2: -1 and 1\n",
        "y = np.where(y == 0, -1, 1)\n",
        "\n",
        "# split iiit to train and test sets\n",
        "X_train, X_test, y_train, y_test = train_test_split(X, y, test_size=0.2, random_state=1234)\n",
        "\n",
        "# let's see some things about the data\n",
        "print(X_train.shape, y_train.shape, X_test.shape, y_test.shape)\n",
        "print(X_train.dtype, X_test.dtype)\n",
        "print(X_train[5])\n",
        "print(y_train[5])\n",
        "print(np.unique(y_train))"
      ],
      "metadata": {
        "colab": {
          "base_uri": "https://localhost:8080/"
        },
        "id": "PX5JHJulg9EU",
        "outputId": "92f0b59f-f18d-496f-8ba4-b8da8f12f9e1"
      },
      "execution_count": null,
      "outputs": [
        {
          "output_type": "stream",
          "name": "stdout",
          "text": [
            "(40, 2) (40,) (10, 2) (10,)\n",
            "float64 float64\n",
            "[9.50472036 4.49439839]\n",
            "1\n",
            "[-1  1]\n"
          ]
        }
      ]
    },
    {
      "cell_type": "code",
      "source": [
        "# plot the data\n",
        "import matplotlib.pyplot as plt\n",
        "\n",
        "fig = plt.figure()\n",
        "ax = fig.add_subplot(1, 1, 1)\n",
        "plt.scatter(X[:, 0], X[:, 1], marker='o', c=y, s=25, edgecolor='k')\n",
        "plt.show()"
      ],
      "metadata": {
        "colab": {
          "base_uri": "https://localhost:8080/",
          "height": 430
        },
        "id": "IAbe48Xb6Lnv",
        "outputId": "beb865bf-a2d8-4955-e264-bed3a36c36de"
      },
      "execution_count": null,
      "outputs": [
        {
          "output_type": "display_data",
          "data": {
            "text/plain": [
              "<Figure size 640x480 with 1 Axes>"
            ],
            "image/png": "[encoded data removed]"
          },
          "metadata": {}
        }
      ]
    },
    {
      "cell_type": "markdown",
      "source": [
        "## 2. Create a custom SVM model."
      ],
      "metadata": {
        "id": "EFVRFDwRg9uQ"
      }
    },
    {
      "cell_type": "code",
      "source": [
        "class SVM:\n",
        "\n",
        "    def __init__(self, learning_rate=0.001, lambda_param=0.01, n_iters=1000):\n",
        "        self.lr = learning_rate\n",
        "        self.lambda_param = lambda_param\n",
        "        self.n_iters = n_iters\n",
        "        self.w = None\n",
        "        self.b = None\n",
        "\n",
        "    def fit(self, X, y):\n",
        "        n_samples, n_features = X.shape\n",
        "\n",
        "        y_ = np.where(y <= 0, -1, 1)\n",
        "\n",
        "        # init weights\n",
        "        self.w = np.zeros(n_features) # try init w and b randomly\n",
        "        self.b = 0\n",
        "\n",
        "        for _ in range(self.n_iters):\n",
        "            for idx, x_i in enumerate(X):\n",
        "                condition = y_[idx] * (np.dot(x_i, self.w) - self.b) >= 1\n",
        "                # apply update rules\n",
        "                if condition:\n",
        "                    self.w -= self.lr * (2 * self.lambda_param * self.w)\n",
        "                else:\n",
        "                    self.w -= self.lr * (2 * self.lambda_param * self.w - np.dot(x_i, y_[idx]))\n",
        "                    self.b -= self.lr * y_[idx]\n",
        "\n",
        "\n",
        "    def predict(self, X):\n",
        "        approx = np.dot(X, self.w) - self.b\n",
        "        return np.sign(approx)"
      ],
      "metadata": {
        "id": "vo0-_82TD-_o"
      },
      "execution_count": null,
      "outputs": []
    },
    {
      "cell_type": "markdown",
      "source": [
        "## 3. Train, predict and evaluate the model."
      ],
      "metadata": {
        "id": "0VJQOsddoqpU"
      }
    },
    {
      "cell_type": "code",
      "source": [
        "# create ana instance of our classifier\n",
        "clf_svm = SVM()\n",
        "\n",
        "# train the classifier\n",
        "clf_svm.fit(X_train, y_train)"
      ],
      "metadata": {
        "id": "Agrbr3CFg834"
      },
      "execution_count": null,
      "outputs": []
    },
    {
      "cell_type": "code",
      "source": [
        "# predict on test set\n",
        "predictions = clf_svm.predict(X_test)\n",
        "\n",
        "# Print the predictions and the actual labels\n",
        "print(\"Predictions:\", np.array(predictions))\n",
        "print(\"Actual Labels:\", y_test)"
      ],
      "metadata": {
        "colab": {
          "base_uri": "https://localhost:8080/"
        },
        "id": "XjEvZFZ1mCwm",
        "outputId": "70dec391-d9f1-4a99-9493-f7e81a417fbc"
      },
      "execution_count": null,
      "outputs": [
        {
          "output_type": "stream",
          "name": "stdout",
          "text": [
            "Predictions: [-1.  1. -1. -1.  1.  1.  1.  1. -1. -1.]\n",
            "Actual Labels: [-1  1 -1 -1  1  1  1  1 -1 -1]\n"
          ]
        }
      ]
    },
    {
      "cell_type": "markdown",
      "source": [
        "Let's use how good our model is."
      ],
      "metadata": {
        "id": "TvLyFCJhrl25"
      }
    },
    {
      "cell_type": "code",
      "source": [
        "# accuracy function\n",
        "def accuracy(y_true, y_pred):\n",
        "  return np.sum(y_true == y_pred) / len(y_true)\n",
        "\n",
        "print(accuracy(y_test, predictions))"
      ],
      "metadata": {
        "colab": {
          "base_uri": "https://localhost:8080/"
        },
        "id": "cEmODCaZmCtp",
        "outputId": "d247eb94-5d74-4042-ce78-1fca4ac53b39"
      },
      "execution_count": null,
      "outputs": [
        {
          "output_type": "stream",
          "name": "stdout",
          "text": [
            "1.0\n"
          ]
        }
      ]
    },
    {
      "cell_type": "markdown",
      "source": [
        "We got the perfect model of accuracy of 100%.\n",
        "Let's visualize now the SVM hyperplane."
      ],
      "metadata": {
        "id": "P_qYUZIo7MVw"
      }
    },
    {
      "cell_type": "code",
      "source": [
        "# helper function to plot decision boundary and hyperplanes\n",
        "def visualize_svm():\n",
        "        def get_hyperplane_value(x, w, b, offset):\n",
        "            return (-w[0] * x + b + offset) / w[1]\n",
        "\n",
        "        fig = plt.figure()\n",
        "        ax = fig.add_subplot(1, 1, 1)\n",
        "        plt.scatter(X[:, 0], X[:, 1], marker=\"o\", c=y)\n",
        "\n",
        "        x0_1 = np.amin(X[:, 0])\n",
        "        x0_2 = np.amax(X[:, 0])\n",
        "\n",
        "        x1_1 = get_hyperplane_value(x0_1, clf_svm.w, clf_svm.b, 0)\n",
        "        x1_2 = get_hyperplane_value(x0_2, clf_svm.w, clf_svm.b, 0)\n",
        "\n",
        "        x1_1_m = get_hyperplane_value(x0_1, clf_svm.w, clf_svm.b, -1)\n",
        "        x1_2_m = get_hyperplane_value(x0_2, clf_svm.w, clf_svm.b, -1)\n",
        "\n",
        "        x1_1_p = get_hyperplane_value(x0_1, clf_svm.w, clf_svm.b, 1)\n",
        "        x1_2_p = get_hyperplane_value(x0_2, clf_svm.w, clf_svm.b, 1)\n",
        "\n",
        "        ax.plot([x0_1, x0_2], [x1_1, x1_2], \"y--\")\n",
        "        ax.plot([x0_1, x0_2], [x1_1_m, x1_2_m], \"k\")\n",
        "        ax.plot([x0_1, x0_2], [x1_1_p, x1_2_p], \"k\")\n",
        "\n",
        "        x1_min = np.amin(X[:, 1])\n",
        "        x1_max = np.amax(X[:, 1])\n",
        "        ax.set_ylim([x1_min - 3, x1_max + 3])\n",
        "\n",
        "        plt.show()\n",
        "\n",
        "# plot\n",
        "visualize_svm()"
      ],
      "metadata": {
        "colab": {
          "base_uri": "https://localhost:8080/",
          "height": 430
        },
        "id": "VI11tval7JMv",
        "outputId": "ed4abb35-2019-472f-979e-f2dccef29e6f"
      },
      "execution_count": null,
      "outputs": [
        {
          "output_type": "display_data",
          "data": {
            "text/plain": [
              "<Figure size 640x480 with 1 Axes>"
            ],
            "image/png": "[encoded data removed]"
          },
          "metadata": {}
        }
      ]
    },
    {
      "cell_type": "markdown",
      "source": [
        "## 4. Compare with the SVM classifier from scikit-learn library."
      ],
      "metadata": {
        "id": "7QrFGdlqmOX_"
      }
    },
    {
      "cell_type": "markdown",
      "source": [
        "Let's see now, what results a [SVM classifier](https://scikit-learn.org/1.5/modules/svm.html) from scikit-learn library gives us."
      ],
      "metadata": {
        "id": "Al8x6nk-uaHF"
      }
    },
    {
      "cell_type": "code",
      "source": [
        "# let's compare now with the accuracy that sklearn gives us\n",
        "from sklearn import svm\n",
        "\n",
        "clf_sklearn = svm.SVC()\n",
        "clf_sklearn.fit(X_train, y_train)\n",
        "sklearn_predictions = clf_sklearn.predict(X_test)"
      ],
      "metadata": {
        "id": "wsDt0S2EmCqx"
      },
      "execution_count": null,
      "outputs": []
    },
    {
      "cell_type": "code",
      "source": [
        "# let's check the accuracy now\n",
        "print(accuracy(y_test, sklearn_predictions))"
      ],
      "metadata": {
        "colab": {
          "base_uri": "https://localhost:8080/"
        },
        "id": "SYMFqAQ9yvJ1",
        "outputId": "8d23ba8d-959a-4cd2-ed88-b81570d63e78"
      },
      "execution_count": null,
      "outputs": [
        {
          "output_type": "stream",
          "name": "stdout",
          "text": [
            "1.0\n"
          ]
        }
      ]
    },
    {
      "cell_type": "markdown",
      "source": [
        "We got exactly the same high score of accuracy like our custom SVM classifier gave us. That's the way SVM classifiers work and we have to do now is to try it on different real big data."
      ],
      "metadata": {
        "id": "oIFMHeDDzmCo"
      }
    },
    {
      "cell_type": "code",
      "source": [],
      "metadata": {
        "id": "kOghK0QcMuCi"
      },
      "execution_count": null,
      "outputs": []
    }
  ]
}